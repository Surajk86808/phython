{
 "cells": [
  {
   "cell_type": "code",
   "execution_count": null,
   "id": "13e9b534",
   "metadata": {},
   "outputs": [],
   "source": [
    "class chatbook:\n",
    "    def __init__(self):\n",
    "        self.username = ''\n",
    "        self.password = ''\n",
    "        self.loggedin = False\n",
    "        self.menu()"
   ]
  },
  {
   "cell_type": "code",
   "execution_count": null,
   "id": "87e4e82c",
   "metadata": {},
   "outputs": [],
   "source": [
    "def menu(self):\n",
    "    print(\"Welcome to the chatbook\")\n",
    "    print(\"Please select an option:\")\n",
    "    user_input = input('1. Login\\n 2. Register\\n 3. Exit')\n",
    "    if user_input == '1':\n",
    "        self.login()\n",
    "    elif user_input == '2':\n",
    "        self.register()\n",
    "    else:\n",
    "        exit()"
   ]
  },
  {
   "cell_type": "code",
   "execution_count": null,
   "id": "3dd336f3",
   "metadata": {},
   "outputs": [
    {
     "ename": "AttributeError",
     "evalue": "'chatbook' object has no attribute 'menu'",
     "output_type": "error",
     "traceback": [
      "\u001b[31m---------------------------------------------------------------------------\u001b[39m",
      "\u001b[31mAttributeError\u001b[39m                            Traceback (most recent call last)",
      "\u001b[36mCell\u001b[39m\u001b[36m \u001b[39m\u001b[32mIn[4]\u001b[39m\u001b[32m, line 1\u001b[39m\n\u001b[32m----> \u001b[39m\u001b[32m1\u001b[39m obj = \u001b[43mchatbook\u001b[49m\u001b[43m(\u001b[49m\u001b[43m)\u001b[49m\n",
      "\u001b[36mCell\u001b[39m\u001b[36m \u001b[39m\u001b[32mIn[2]\u001b[39m\u001b[32m, line 6\u001b[39m, in \u001b[36mchatbook.__init__\u001b[39m\u001b[34m(self)\u001b[39m\n\u001b[32m      4\u001b[39m \u001b[38;5;28mself\u001b[39m.password = \u001b[33m'\u001b[39m\u001b[33m'\u001b[39m\n\u001b[32m      5\u001b[39m \u001b[38;5;28mself\u001b[39m.loggedin = \u001b[38;5;28;01mFalse\u001b[39;00m\n\u001b[32m----> \u001b[39m\u001b[32m6\u001b[39m \u001b[38;5;28;43mself\u001b[39;49m\u001b[43m.\u001b[49m\u001b[43mmenu\u001b[49m()\n",
      "\u001b[31mAttributeError\u001b[39m: 'chatbook' object has no attribute 'menu'"
     ]
    }
   ],
   "source": [
    "obj = chatbook"
   ]
  }
 ],
 "metadata": {
  "kernelspec": {
   "display_name": ".venv (3.13.3)",
   "language": "python",
   "name": "python3"
  },
  "language_info": {
   "codemirror_mode": {
    "name": "ipython",
    "version": 3
   },
   "file_extension": ".py",
   "mimetype": "text/x-python",
   "name": "python",
   "nbconvert_exporter": "python",
   "pygments_lexer": "ipython3",
   "version": "3.13.3"
  }
 },
 "nbformat": 4,
 "nbformat_minor": 5
}
