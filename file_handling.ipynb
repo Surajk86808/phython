{
 "cells": [
  {
   "cell_type": "code",
   "execution_count": 7,
   "id": "02b3335d",
   "metadata": {
    "notebookRunGroups": {
     "groupValue": "1"
    }
   },
   "outputs": [],
   "source": [
    "with open(\"example.txt\",\"w\") as file:\n",
    "    file.write(\"Hello world\")\n",
    "    file.write(\"\\n This is new line\")"
   ]
  },
  {
   "cell_type": "code",
   "execution_count": 8,
   "id": "f808c490",
   "metadata": {},
   "outputs": [
    {
     "name": "stdout",
     "output_type": "stream",
     "text": [
      "Hello world\n",
      " This is new line\n"
     ]
    }
   ],
   "source": [
    "with open(\"example.txt\",\"r\") as file:\n",
    "    content =  file.read()\n",
    "    print(content)"
   ]
  },
  {
   "cell_type": "code",
   "execution_count": null,
   "id": "9b93c3a9",
   "metadata": {},
   "outputs": [],
   "source": [
    "#file is overwritting\n",
    "with open(\"example.txt\",\"w\") as file:\n",
    "    file.write('hi file is overwritten')"
   ]
  },
  {
   "cell_type": "code",
   "execution_count": 11,
   "id": "e4033239",
   "metadata": {},
   "outputs": [
    {
     "name": "stdout",
     "output_type": "stream",
     "text": [
      "\n"
     ]
    }
   ],
   "source": [
    "with open(\"example.txt\",\"r\") as file:\n",
    "    content = file.read()\n",
    "    print(content)"
   ]
  },
  {
   "cell_type": "code",
   "execution_count": null,
   "id": "fe8c4d9c",
   "metadata": {},
   "outputs": [],
   "source": [
    "lines = [ 'first line : line1\\n', 'second line : line2\\n', 'third line :line3\\n', 'fourth line : line4\\n', 'fifth line : line5']\n",
    "with open ('example.txt','a') as file:\n",
    "    file.writelines(lines)\n",
    "    "
   ]
  },
  {
   "cell_type": "code",
   "execution_count": 18,
   "id": "5c78ff8b",
   "metadata": {},
   "outputs": [
    {
     "name": "stdout",
     "output_type": "stream",
     "text": [
      "first line : line1\n",
      "second line : line2\n",
      "third line :line3nfourth line : line4\n",
      "fifth line : line5first line : line1\n",
      "second line : line2\n",
      "third line :line3nfourth line : line4\n",
      "fifth line : line5\n"
     ]
    }
   ],
   "source": [
    "with open(\"example.txt\",\"r\") as file:\n",
    "    content = file.read()\n",
    "    print(content)"
   ]
  }
 ],
 "metadata": {
  "kernelspec": {
   "display_name": ".venv (3.13.3)",
   "language": "python",
   "name": "python3"
  },
  "language_info": {
   "codemirror_mode": {
    "name": "ipython",
    "version": 3
   },
   "file_extension": ".py",
   "mimetype": "text/x-python",
   "name": "python",
   "nbconvert_exporter": "python",
   "pygments_lexer": "ipython3",
   "version": "3.13.3"
  }
 },
 "nbformat": 4,
 "nbformat_minor": 5
}
