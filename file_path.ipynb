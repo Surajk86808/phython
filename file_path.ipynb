{
 "cells": [
  {
   "cell_type": "code",
   "execution_count": 1,
   "id": "7410b8b5",
   "metadata": {},
   "outputs": [
    {
     "name": "stdout",
     "output_type": "stream",
     "text": [
      "c:\\Users\\Laptop\\OneDrive\\Desktop\\New folder\n"
     ]
    }
   ],
   "source": [
    "import os\n",
    "print(os.getcwd())"
   ]
  },
  {
   "cell_type": "code",
   "execution_count": 2,
   "id": "a9cac6a8",
   "metadata": {},
   "outputs": [
    {
     "name": "stdout",
     "output_type": "stream",
     "text": [
      "Directory 'code_run' created successfully.\n"
     ]
    }
   ],
   "source": [
    "new_directory = \"code_run\"\n",
    "os.mkdir(new_directory)\n",
    "print(f\"Directory '{new_directory}' created successfully.\")"
   ]
  },
  {
   "cell_type": "code",
   "execution_count": 5,
   "id": "08e28cee",
   "metadata": {},
   "outputs": [
    {
     "name": "stdout",
     "output_type": "stream",
     "text": [
      "['.git', '.gitignore', '.venv', 'code_run', 'contact.txt', 'example.txt', 'file_handling.ipynb', 'file_path.ipynb', 'pydantic.py', 'Quadrant']\n"
     ]
    }
   ],
   "source": [
    "# list of dir \n",
    "items = os.listdir('.')\n",
    "print(items)"
   ]
  },
  {
   "cell_type": "code",
   "execution_count": 6,
   "id": "5fc21ab3",
   "metadata": {},
   "outputs": [
    {
     "name": "stdout",
     "output_type": "stream",
     "text": [
      "code_run\\file_path.py\n"
     ]
    }
   ],
   "source": [
    "dir_name = \"code_run\"\n",
    "file_name = \"file_path.py\"\n",
    "full_path = os.path.join(dir_name, file_name)\n",
    "print(full_path)"
   ]
  },
  {
   "cell_type": "code",
   "execution_count": 7,
   "id": "8b4ef451",
   "metadata": {},
   "outputs": [
    {
     "name": "stdout",
     "output_type": "stream",
     "text": [
      "c:\\Users\\Laptop\\OneDrive\\Desktop\\New folder\\code_run\\file_path.py\n"
     ]
    }
   ],
   "source": [
    "dir_name = \"code_run\"\n",
    "file_name = \"file_path.py\"\n",
    "full_path = os.path.join(os.getcwd(), dir_name, file_name)\n",
    "print(full_path)"
   ]
  },
  {
   "cell_type": "code",
   "execution_count": 9,
   "id": "90ce5097",
   "metadata": {},
   "outputs": [
    {
     "name": "stdout",
     "output_type": "stream",
     "text": [
      "That 'C:\\Users\\Laptop\\OneDrive\\Desktop\\New folder' exists!\n"
     ]
    }
   ],
   "source": [
    "path = \"C:\\\\Users\\\\Laptop\\\\OneDrive\\\\Desktop\\\\New folder\"\n",
    "if os.path.exists(path):\n",
    "    print(f\"That '{path}' exists!\")\n",
    "else:\n",
    "    print(f\"That '{path}' doesn't exist!\")"
   ]
  },
  {
   "cell_type": "code",
   "execution_count": 14,
   "id": "aa5d9909",
   "metadata": {},
   "outputs": [
    {
     "name": "stdout",
     "output_type": "stream",
     "text": [
      "The path 'C:\\Users\\Laptop\\OneDrive\\Desktop\\New folder' is not a file \n",
      " Basically it is a directory\n"
     ]
    }
   ],
   "source": [
    "path = \"C:\\\\Users\\\\Laptop\\\\OneDrive\\\\Desktop\\\\New folder\"\n",
    "import os \n",
    "if os.path.isfile(path):\n",
    "    print (f\"The path '{path}' is a file\")\n",
    "else:\n",
    "    print (f\"The path '{path}' is not a file \\n Basically it is a directory\")"
   ]
  },
  {
   "cell_type": "code",
   "execution_count": 15,
   "id": "a5f5f24a",
   "metadata": {},
   "outputs": [
    {
     "name": "stdout",
     "output_type": "stream",
     "text": [
      "c:\\Users\\Laptop\\OneDrive\\Desktop\\New folder\\example.txt\n"
     ]
    }
   ],
   "source": [
    "relative_Path = \"example.txt\"\n",
    "absolute_Path = os.path.abspath(relative_Path)\n",
    "print(absolute_Path)"
   ]
  }
 ],
 "metadata": {
  "kernelspec": {
   "display_name": ".venv (3.13.3)",
   "language": "python",
   "name": "python3"
  },
  "language_info": {
   "codemirror_mode": {
    "name": "ipython",
    "version": 3
   },
   "file_extension": ".py",
   "mimetype": "text/x-python",
   "name": "python",
   "nbconvert_exporter": "python",
   "pygments_lexer": "ipython3",
   "version": "3.13.3"
  }
 },
 "nbformat": 4,
 "nbformat_minor": 5
}
